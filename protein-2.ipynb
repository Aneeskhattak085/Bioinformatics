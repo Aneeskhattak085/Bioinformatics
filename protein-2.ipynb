{
  "nbformat": 4,
  "nbformat_minor": 0,
  "metadata": {
    "colab": {
      "name": "Untitled0.ipynb",
      "version": "0.3.2",
      "provenance": [],
      "collapsed_sections": []
    },
    "kernelspec": {
      "name": "python3",
      "display_name": "Python 3"
    },
    "accelerator": "GPU"
  },
  "cells": [
    {
      "cell_type": "code",
      "metadata": {
        "id": "UlNRWC_QXPN8",
        "colab_type": "code",
        "outputId": "bca9fd57-1a30-4afd-ac09-7c42362b5d9b",
        "colab": {
          "base_uri": "https://localhost:8080/",
          "height": 122
        }
      },
      "source": [
        "from google.colab import drive\n",
        "drive.mount('/content/gdrive')"
      ],
      "execution_count": 0,
      "outputs": [
        {
          "output_type": "stream",
          "text": [
            "Go to this URL in a browser: https://accounts.google.com/o/oauth2/auth?client_id=947318989803-6bn6qk8qdgf4n4g3pfee6491hc0brc4i.apps.googleusercontent.com&redirect_uri=urn%3Aietf%3Awg%3Aoauth%3A2.0%3Aoob&scope=email%20https%3A%2F%2Fwww.googleapis.com%2Fauth%2Fdocs.test%20https%3A%2F%2Fwww.googleapis.com%2Fauth%2Fdrive%20https%3A%2F%2Fwww.googleapis.com%2Fauth%2Fdrive.photos.readonly%20https%3A%2F%2Fwww.googleapis.com%2Fauth%2Fpeopleapi.readonly&response_type=code\n",
            "\n",
            "Enter your authorization code:\n",
            "··········\n",
            "Mounted at /content/gdrive\n"
          ],
          "name": "stdout"
        }
      ]
    },
    {
      "cell_type": "code",
      "metadata": {
        "id": "ZFUeOKt5o59o",
        "colab_type": "code",
        "colab": {}
      },
      "source": [
        "!pip install biopython"
      ],
      "execution_count": 0,
      "outputs": []
    },
    {
      "cell_type": "code",
      "metadata": {
        "id": "qcui3LSjXkZc",
        "colab_type": "code",
        "outputId": "32ff091c-7aa6-4007-a724-0dfd7660292a",
        "colab": {
          "base_uri": "https://localhost:8080/",
          "height": 34
        }
      },
      "source": [
        "cd '/content/gdrive/My Drive/Colab Notebooks/tumor_angiogensis/'"
      ],
      "execution_count": 0,
      "outputs": [
        {
          "output_type": "stream",
          "text": [
            "/content/gdrive/My Drive/Colab Notebooks/tumor_angiogensis\n"
          ],
          "name": "stdout"
        }
      ]
    },
    {
      "cell_type": "code",
      "metadata": {
        "id": "HoRVRlniXdnT",
        "colab_type": "code",
        "outputId": "2e0e44af-3c2f-449c-e01a-69fcc7be8ab7",
        "colab": {
          "base_uri": "https://localhost:8080/",
          "height": 34
        }
      },
      "source": [
        "ls ./\n"
      ],
      "execution_count": 0,
      "outputs": [
        {
          "output_type": "stream",
          "text": [
            "input.xlsx  neg_fea_extraction.txt  output.xlsx  Pos_fea_extraction.txt\n"
          ],
          "name": "stdout"
        }
      ]
    },
    {
      "cell_type": "code",
      "metadata": {
        "id": "EK9ceqx6YW6X",
        "colab_type": "code",
        "outputId": "43f0564a-f811-4bc4-c1aa-8118c06e920f",
        "colab": {
          "base_uri": "https://localhost:8080/",
          "height": 85
        }
      },
      "source": [
        "import os\n",
        "for f in os.listdir():\n",
        "  print(f)"
      ],
      "execution_count": 0,
      "outputs": [
        {
          "output_type": "stream",
          "text": [
            "Pos_fea_extraction.txt\n",
            "output.xlsx\n",
            "neg_fea_extraction.txt\n",
            "input.xlsx\n"
          ],
          "name": "stdout"
        }
      ]
    },
    {
      "cell_type": "code",
      "metadata": {
        "id": "Szvfv-RxN_jl",
        "colab_type": "code",
        "outputId": "80bed70a-625b-485e-fc15-f5f85e8aca04",
        "colab": {
          "base_uri": "https://localhost:8080/",
          "height": 1000
        }
      },
      "source": [
        "import csv\n",
        "import numpy as np\n",
        "from sklearn import decomposition\n",
        "from sklearn.metrics import confusion_matrix\n",
        "from sklearn.model_selection import KFold\n",
        "from sklearn.preprocessing import StandardScaler\n",
        "from sklearn.ensemble import RandomForestClassifier\n",
        "\n",
        "np.random.seed(5)\n",
        "inputSize = 165\n",
        "outputCol = inputSize + 1\n",
        "import pandas as pd\n",
        "dataset = pd.read_excel(\"input.xlsx\")\n",
        "#dataset = np.genfromtxt(\"./FVs.csv\", delimiter=\",\", dtype=float)\n",
        "dataset = dataset.values\n",
        "df = np.array(dataset)\n",
        "for i in range(len(df)):\n",
        "  for j in range(len(df[i])):\n",
        "    if df[i][j] in ['NAN']:\n",
        "      #print(df[i][j])\n",
        "      df[i][j] = 0\n",
        "      \n",
        "X = df[:,1:inputSize]\n",
        "Y = df[:,0]\n",
        "Y = np.array(Y)\n",
        "print(Y.shape)\n",
        "#for i in range(len(Y)):\n",
        " # if Y[i] not in [0,1]:\n",
        "    #print(i)\n",
        " \n",
        "Y = np.reshape(Y,[Y.shape[0],1])\n",
        "\n",
        "from sklearn.preprocessing import OneHotEncoder\n",
        "\n",
        "onehot_encoder = OneHotEncoder(sparse=False)\n",
        "onehot_encoded = onehot_encoder.fit_transform(Y)\n",
        "print(onehot_encoded.shape)\n",
        "#print(onehot_encoded)\n",
        "Y = onehot_encoded\n",
        "std_scale = StandardScaler().fit(X)\n",
        "X = std_scale.transform(X)\n",
        "print('Self-Consistency')\n",
        "pca = decomposition.PCA(n_components=2)\n",
        "pca.fit(X)\n",
        "X = pca.transform(X)\n",
        "clf = RandomForestClassifier(n_estimators=50, oob_score=True, n_jobs=-1, warm_start=True).fit(X, Y)\n",
        "pred = np.round(clf.predict(X))\n",
        "\n",
        "y1 = np.argmax(Y,axis=1)\n",
        "y2 = np.argmax(pred,axis=1)\n",
        "\n",
        "tn, fp, fn, tp = confusion_matrix(y1,y2,labels=[0,1]).ravel()\n",
        "acc = np.round(((tn+tp)/(tn+fp+fn+tp))*100, 2)\n",
        "print([tn,fp,fn,tp,acc])\n",
        "print('k-fold')\n",
        "\n",
        "import matplotlib.pyplot as plt\n",
        "import seaborn as sn\n",
        "\n",
        "df_cm = pd.DataFrame([[tn,fp],[fn,tp]], index = [i for i in \"01\"],\n",
        "                  columns = [i for i in \"01\"])\n",
        "plt.figure(figsize = (5,3))\n",
        "sn.heatmap(df_cm, annot=True)\n",
        "\n",
        "self_scores = []\n",
        "self_scores.append([tn,fp,fn,tp,acc])\n",
        "\n",
        "kfold = KFold(n_splits=10, shuffle=True)\n",
        "cvscores = []\n",
        "\n",
        "iterator = 1\n",
        "cv_score = 0\n",
        "for train, test in kfold.split(X, Y):\n",
        "    print('Fold : '+str(iterator))\n",
        "    clf = RandomForestClassifier(n_estimators=50, oob_score=True, n_jobs=-1, warm_start=True).fit(X, Y)\n",
        "    pred = np.round(clf.predict(X[test]))\n",
        "    tn, fp, fn, tp = confusion_matrix(np.argmax(Y[test],axis=1), np.argmax(pred,axis=1), labels=[1,0]).ravel()\n",
        "    acc = np.round(((tn+tp)/(tn+fp+fn+tp))*100, 2)\n",
        "    cvscores.append([tn,fp,fn,tp,acc])\n",
        "    df_cm = pd.DataFrame([[tn,fp],[fn,tp]], index = [i for i in \"01\"],\n",
        "                  columns = [i for i in \"01\"])\n",
        "    plt.figure(figsize = (5,3))\n",
        "    sn.heatmap(df_cm, annot=True)\n",
        "    iterator=iterator+1\n",
        "    print([tn,fp,fn,tp,acc])\n",
        "    cv_score = cv_score + acc\n",
        "print('\\n\\rFinal 10CV Score = ', np.round(cv_score/kfold.n_splits,2),'\\n\\rResults are Saved in CrossValidationResults.csv\\n\\r')\n",
        "with open('./CrossValidationResults.csv', 'w', newline='') as csvfile:\n",
        "    resultwriter = csv.writer(csvfile, delimiter=',', quotechar='|')\n",
        "    resultwriter.writerow(['True Negative', 'False Positive', 'False Negative', 'True Positive', 'Accuracy'])\n",
        "    resultwriter.writerow(self_scores)\n",
        "    resultwriter.writerow(['True Negative', 'False Positive', 'False Negative', 'True Positive', 'Accuracy'])\n",
        "    for i in range(cvscores.__len__()):\n",
        "        resultwriter.writerow(cvscores[i])\n",
        "    resultwriter.writerow(['The Final 10CV Score','','','',np.round(cv_score/kfold.n_splits,2)])\n"
      ],
      "execution_count": 0,
      "outputs": [
        {
          "output_type": "stream",
          "text": [
            "(855,)\n",
            "(855, 2)\n",
            "Self-Consistency\n"
          ],
          "name": "stdout"
        },
        {
          "output_type": "stream",
          "text": [
            "/usr/local/lib/python3.6/dist-packages/sklearn/preprocessing/_encoders.py:415: FutureWarning: The handling of integer data will change in version 0.22. Currently, the categories are determined based on the range [0, max(values)], while in the future they will be determined based on the unique values.\n",
            "If you want the future behaviour and silence this warning, you can specify \"categories='auto'\".\n",
            "In case you used a LabelEncoder before this OneHotEncoder to convert the categories to integers, then you can now use the OneHotEncoder directly.\n",
            "  warnings.warn(msg, FutureWarning)\n"
          ],
          "name": "stderr"
        },
        {
          "output_type": "stream",
          "text": [
            "[506, 4, 2, 343, 99.3]\n",
            "k-fold\n",
            "Fold : 1\n",
            "[40, 1, 0, 45, 98.84]\n",
            "Fold : 2\n",
            "[29, 1, 0, 56, 98.84]\n",
            "Fold : 3\n",
            "[34, 2, 0, 50, 97.67]\n",
            "Fold : 4\n",
            "[33, 1, 0, 52, 98.84]\n",
            "Fold : 5\n",
            "[34, 1, 0, 51, 98.84]\n",
            "Fold : 6\n",
            "[34, 1, 0, 50, 98.82]\n",
            "Fold : 7\n",
            "[32, 1, 0, 52, 98.82]\n",
            "Fold : 8\n",
            "[36, 0, 0, 49, 100.0]\n",
            "Fold : 9\n",
            "[28, 0, 1, 56, 98.82]\n",
            "Fold : 10\n",
            "[37, 0, 0, 48, 100.0]\n",
            "\n",
            "Final 10CV Score =  98.95 \n",
            "Results are Saved in CrossValidationResults.csv\n",
            "\n"
          ],
          "name": "stdout"
        },
        {
          "output_type": "display_data",
          "data": {
            "image/png": "[encoded data removed]",
            "text/plain": [
              "<Figure size 360x216 with 2 Axes>"
            ]
          },
          "metadata": {
            "tags": []
          }
        },
        {
          "output_type": "display_data",
          "data": {
            "image/png": "[encoded data removed]",
            "text/plain": [
              "<Figure size 360x216 with 2 Axes>"
            ]
          },
          "metadata": {
            "tags": []
          }
        },
        {
          "output_type": "display_data",
          "data": {
            "image/png": "[encoded data removed]",
            "text/plain": [
              "<Figure size 360x216 with 2 Axes>"
            ]
          },
          "metadata": {
            "tags": []
          }
        },
        {
          "output_type": "display_data",
          "data": {
            "image/png": "[encoded data removed]",
            "text/plain": [
              "<Figure size 360x216 with 2 Axes>"
            ]
          },
          "metadata": {
            "tags": []
          }
        },
        {
          "output_type": "display_data",
          "data": {
            "image/png": "[encoded data removed]",
            "text/plain": [
              "<Figure size 360x216 with 2 Axes>"
            ]
          },
          "metadata": {
            "tags": []
          }
        },
        {
          "output_type": "display_data",
          "data": {
            "image/png": "[encoded data removed]",
            "text/plain": [
              "<Figure size 360x216 with 2 Axes>"
            ]
          },
          "metadata": {
            "tags": []
          }
        },
        {
          "output_type": "display_data",
          "data": {
            "image/png": "[encoded data removed]",
            "text/plain": [
              "<Figure size 360x216 with 2 Axes>"
            ]
          },
          "metadata": {
            "tags": []
          }
        },
        {
          "output_type": "display_data",
          "data": {
            "image/png": "[encoded data removed]",
            "text/plain": [
              "<Figure size 360x216 with 2 Axes>"
            ]
          },
          "metadata": {
            "tags": []
          }
        },
        {
          "output_type": "display_data",
          "data": {
            "image/png": "[encoded data removed]",
            "text/plain": [
              "<Figure size 360x216 with 2 Axes>"
            ]
          },
          "metadata": {
            "tags": []
          }
        },
        {
          "output_type": "display_data",
          "data": {
            "image/png": "[encoded data removed]",
            "text/plain": [
              "<Figure size 360x216 with 2 Axes>"
            ]
          },
          "metadata": {
            "tags": []
          }
        },
        {
          "output_type": "display_data",
          "data": {
            "image/png": "[encoded data removed]",
            "text/plain": [
              "<Figure size 360x216 with 2 Axes>"
            ]
          },
          "metadata": {
            "tags": []
          }
        }
      ]
    },
    {
      "cell_type": "code",
      "metadata": {
        "id": "0yEohWEPf2Yg",
        "colab_type": "code",
        "outputId": "77220414-6092-403d-8c73-f23e13075314",
        "colab": {
          "base_uri": "https://localhost:8080/",
          "height": 374
        }
      },
      "source": [
        "from keras.models import Sequential\n",
        "from keras.layers import Dense,Conv1D\n",
        "from sklearn.utils import class_weight\n",
        "import keras\n",
        "\n",
        "for train, test in kfold.split(X, Y2):\n",
        "    print('Fold : '+str(iterator))\n",
        "    model = Sequential()\n",
        "    model.add(Dense(units=50, activation='relu'))\n",
        "    model.add(Dense(units=2, activation='softmax'))\n",
        "    model.compile(loss='categorical_crossentropy',\n",
        "                  optimizer=keras.optimizers.SGD(lr=0.001),\n",
        "                  metrics=['accuracy'])\n",
        "    class_weights = class_weight.compute_class_weight('balanced',\n",
        "                                                 np.unique(np.argmax(Y,axis=1)),\n",
        "                                                 np.argmax(Y[train],axis=1))\n",
        "    \n",
        "    print(class_weights)\n",
        "    \n",
        "    model.fit(X[train], Y[train], epochs=1000, batch_size=1,class_weight=class_weights)\n",
        "    pred = np.round(clf.predict(X[test]))\n",
        "    tn, fp, fn, tp = confusion_matrix(np.argmax(Y[test],axis=1), np.argmax(pred,axis=1), labels=[1,0]).ravel()\n",
        "    acc = np.round(((tn+tp)/(tn+fp+fn+tp))*100, 2)\n",
        "    cvscores.append([tn,fp,fn,tp,acc])\n",
        "    df_cm = pd.DataFrame([[tn,fp],[fn,tp]], index = [i for i in \"01\"],\n",
        "                  columns = [i for i in \"01\"])\n",
        "    plt.figure(figsize = (5,3))\n",
        "    sn.heatmap(df_cm, annot=True)\n",
        "    iterator=iterator+1\n",
        "    print([tn,fp,fn,tp,acc])\n",
        "    cv_score = cv_score + acc\n",
        "print('\\n\\rFinal 10CV Score = ', np.round(cv_score/kfold.n_splits,2),'\\n\\rResults are Saved in CrossValidationResults.csv\\n\\r')\n",
        "with open('./CrossValidationResults.csv', 'w', newline='') as csvfile:\n",
        "    resultwriter = csv.writer(csvfile, delimiter=',', quotechar='|')\n",
        "    resultwriter.writerow(['True Negative', 'False Positive', 'False Negative', 'True Positive', 'Accuracy'])\n",
        "    resultwriter.writerow(self_scores)\n",
        "    resultwriter.writerow(['True Negative', 'False Positive', 'False Negative', 'True Positive', 'Accuracy'])\n",
        "    for i in range(cvscores.__len__()):\n",
        "        resultwriter.writerow(cvscores[i])\n",
        "    resultwriter.writerow(['The Final 10CV Score','','','',np.round(cv_score/kfold.n_splits,2)])\n"
      ],
      "execution_count": 0,
      "outputs": [
        {
          "output_type": "error",
          "ename": "ValueError",
          "evalue": "ignored",
          "traceback": [
            "\u001b[0;31m---------------------------------------------------------------------------\u001b[0m",
            "\u001b[0;31mValueError\u001b[0m                                Traceback (most recent call last)",
            "\u001b[0;32m<ipython-input-122-d9f7ba0a895c>\u001b[0m in \u001b[0;36m<module>\u001b[0;34m()\u001b[0m\n\u001b[1;32m      4\u001b[0m \u001b[0;32mimport\u001b[0m \u001b[0mkeras\u001b[0m\u001b[0;34m\u001b[0m\u001b[0;34m\u001b[0m\u001b[0m\n\u001b[1;32m      5\u001b[0m \u001b[0;34m\u001b[0m\u001b[0m\n\u001b[0;32m----> 6\u001b[0;31m \u001b[0;32mfor\u001b[0m \u001b[0mtrain\u001b[0m\u001b[0;34m,\u001b[0m \u001b[0mtest\u001b[0m \u001b[0;32min\u001b[0m \u001b[0mkfold\u001b[0m\u001b[0;34m.\u001b[0m\u001b[0msplit\u001b[0m\u001b[0;34m(\u001b[0m\u001b[0mX\u001b[0m\u001b[0;34m,\u001b[0m \u001b[0mY2\u001b[0m\u001b[0;34m)\u001b[0m\u001b[0;34m:\u001b[0m\u001b[0;34m\u001b[0m\u001b[0;34m\u001b[0m\u001b[0m\n\u001b[0m\u001b[1;32m      7\u001b[0m     \u001b[0mprint\u001b[0m\u001b[0;34m(\u001b[0m\u001b[0;34m'Fold : '\u001b[0m\u001b[0;34m+\u001b[0m\u001b[0mstr\u001b[0m\u001b[0;34m(\u001b[0m\u001b[0miterator\u001b[0m\u001b[0;34m)\u001b[0m\u001b[0;34m)\u001b[0m\u001b[0;34m\u001b[0m\u001b[0;34m\u001b[0m\u001b[0m\n\u001b[1;32m      8\u001b[0m     \u001b[0mmodel\u001b[0m \u001b[0;34m=\u001b[0m \u001b[0mSequential\u001b[0m\u001b[0;34m(\u001b[0m\u001b[0;34m)\u001b[0m\u001b[0;34m\u001b[0m\u001b[0;34m\u001b[0m\u001b[0m\n",
            "\u001b[0;32m/usr/local/lib/python3.6/dist-packages/sklearn/model_selection/_split.py\u001b[0m in \u001b[0;36msplit\u001b[0;34m(self, X, y, groups)\u001b[0m\n\u001b[1;32m    325\u001b[0m             \u001b[0mThe\u001b[0m \u001b[0mtesting\u001b[0m \u001b[0mset\u001b[0m \u001b[0mindices\u001b[0m \u001b[0;32mfor\u001b[0m \u001b[0mthat\u001b[0m \u001b[0msplit\u001b[0m\u001b[0;34m.\u001b[0m\u001b[0;34m\u001b[0m\u001b[0;34m\u001b[0m\u001b[0m\n\u001b[1;32m    326\u001b[0m         \"\"\"\n\u001b[0;32m--> 327\u001b[0;31m         \u001b[0mX\u001b[0m\u001b[0;34m,\u001b[0m \u001b[0my\u001b[0m\u001b[0;34m,\u001b[0m \u001b[0mgroups\u001b[0m \u001b[0;34m=\u001b[0m \u001b[0mindexable\u001b[0m\u001b[0;34m(\u001b[0m\u001b[0mX\u001b[0m\u001b[0;34m,\u001b[0m \u001b[0my\u001b[0m\u001b[0;34m,\u001b[0m \u001b[0mgroups\u001b[0m\u001b[0;34m)\u001b[0m\u001b[0;34m\u001b[0m\u001b[0;34m\u001b[0m\u001b[0m\n\u001b[0m\u001b[1;32m    328\u001b[0m         \u001b[0mn_samples\u001b[0m \u001b[0;34m=\u001b[0m \u001b[0m_num_samples\u001b[0m\u001b[0;34m(\u001b[0m\u001b[0mX\u001b[0m\u001b[0;34m)\u001b[0m\u001b[0;34m\u001b[0m\u001b[0;34m\u001b[0m\u001b[0m\n\u001b[1;32m    329\u001b[0m         \u001b[0;32mif\u001b[0m \u001b[0mself\u001b[0m\u001b[0;34m.\u001b[0m\u001b[0mn_splits\u001b[0m \u001b[0;34m>\u001b[0m \u001b[0mn_samples\u001b[0m\u001b[0;34m:\u001b[0m\u001b[0;34m\u001b[0m\u001b[0;34m\u001b[0m\u001b[0m\n",
            "\u001b[0;32m/usr/local/lib/python3.6/dist-packages/sklearn/utils/validation.py\u001b[0m in \u001b[0;36mindexable\u001b[0;34m(*iterables)\u001b[0m\n\u001b[1;32m    228\u001b[0m         \u001b[0;32melse\u001b[0m\u001b[0;34m:\u001b[0m\u001b[0;34m\u001b[0m\u001b[0;34m\u001b[0m\u001b[0m\n\u001b[1;32m    229\u001b[0m             \u001b[0mresult\u001b[0m\u001b[0;34m.\u001b[0m\u001b[0mappend\u001b[0m\u001b[0;34m(\u001b[0m\u001b[0mnp\u001b[0m\u001b[0;34m.\u001b[0m\u001b[0marray\u001b[0m\u001b[0;34m(\u001b[0m\u001b[0mX\u001b[0m\u001b[0;34m)\u001b[0m\u001b[0;34m)\u001b[0m\u001b[0;34m\u001b[0m\u001b[0;34m\u001b[0m\u001b[0m\n\u001b[0;32m--> 230\u001b[0;31m     \u001b[0mcheck_consistent_length\u001b[0m\u001b[0;34m(\u001b[0m\u001b[0;34m*\u001b[0m\u001b[0mresult\u001b[0m\u001b[0;34m)\u001b[0m\u001b[0;34m\u001b[0m\u001b[0;34m\u001b[0m\u001b[0m\n\u001b[0m\u001b[1;32m    231\u001b[0m     \u001b[0;32mreturn\u001b[0m \u001b[0mresult\u001b[0m\u001b[0;34m\u001b[0m\u001b[0;34m\u001b[0m\u001b[0m\n\u001b[1;32m    232\u001b[0m \u001b[0;34m\u001b[0m\u001b[0m\n",
            "\u001b[0;32m/usr/local/lib/python3.6/dist-packages/sklearn/utils/validation.py\u001b[0m in \u001b[0;36mcheck_consistent_length\u001b[0;34m(*arrays)\u001b[0m\n\u001b[1;32m    203\u001b[0m     \u001b[0;32mif\u001b[0m \u001b[0mlen\u001b[0m\u001b[0;34m(\u001b[0m\u001b[0muniques\u001b[0m\u001b[0;34m)\u001b[0m \u001b[0;34m>\u001b[0m \u001b[0;36m1\u001b[0m\u001b[0;34m:\u001b[0m\u001b[0;34m\u001b[0m\u001b[0;34m\u001b[0m\u001b[0m\n\u001b[1;32m    204\u001b[0m         raise ValueError(\"Found input variables with inconsistent numbers of\"\n\u001b[0;32m--> 205\u001b[0;31m                          \" samples: %r\" % [int(l) for l in lengths])\n\u001b[0m\u001b[1;32m    206\u001b[0m \u001b[0;34m\u001b[0m\u001b[0m\n\u001b[1;32m    207\u001b[0m \u001b[0;34m\u001b[0m\u001b[0m\n",
            "\u001b[0;31mValueError\u001b[0m: Found input variables with inconsistent numbers of samples: [855, 3572]"
          ]
        }
      ]
    },
    {
      "cell_type": "code",
      "metadata": {
        "id": "gjGvwvSRumOj",
        "colab_type": "code",
        "outputId": "3e1e9e87-b9c6-43b3-a685-263a87eb23b1",
        "colab": {
          "base_uri": "https://localhost:8080/",
          "height": 34
        }
      },
      "source": [
        "print(X.shape)"
      ],
      "execution_count": 0,
      "outputs": [
        {
          "output_type": "stream",
          "text": [
            "(3572, 2)\n"
          ],
          "name": "stdout"
        }
      ]
    },
    {
      "cell_type": "code",
      "metadata": {
        "id": "U4v7bKFyuoGp",
        "colab_type": "code",
        "colab": {}
      },
      "source": [
        ""
      ],
      "execution_count": 0,
      "outputs": []
    }
  ]
}