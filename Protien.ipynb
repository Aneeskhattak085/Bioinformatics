{
 "cells": [
  {
   "cell_type": "code",
   "execution_count": 1,
   "metadata": {},
   "outputs": [],
   "source": [
    "import pandas as pd\n",
    "from xml.dom import minidom\n",
    "document = minidom.parse(\"dataset.xml\")"
   ]
  },
  {
   "cell_type": "code",
   "execution_count": 2,
   "metadata": {},
   "outputs": [],
   "source": [
    "# Find the pattern in the sequence\n",
    "def getPattern(sequence, position):\n",
    "    start_str_index = position - 20\n",
    "\n",
    "    if start_str_index < 0:\n",
    "        start_str_index = 0\n",
    "\n",
    "    start_str = sequence[start_str_index:position]\n",
    "    middle_str = sequence[position]\n",
    "    after_str = sequence[position+1:position+1+20]\n",
    "\n",
    "    if len(start_str) < 20:\n",
    "        x_count = 20 - len(start_str)\n",
    "        start_str = 'X' * x_count + start_str\n",
    "\n",
    "    if len(after_str) < 20:\n",
    "        x_count = 20 - len(after_str)\n",
    "        after_str = after_str + 'X' * x_count\n",
    "\n",
    "    return start_str + middle_str + after_str"
   ]
  },
  {
   "cell_type": "code",
   "execution_count": 3,
   "metadata": {},
   "outputs": [],
   "source": [
    "# The type and description in your search criteria\n",
    "search_type = \"modified residue\"\n",
    "#search_descriptions = [\"N-acetylthreonine\"]\n",
    "\n",
    "# Result that will be created once a match is found\n",
    "sequences = []\n",
    "types = []\n",
    "positions = []\n",
    "#descriptions = []\n",
    "patterns = []\n",
    "\n",
    "entries = document.getElementsByTagName(\"entry\")\n",
    "for i, entry in enumerate(entries):\n",
    "    features = entry.getElementsByTagName(\"feature\")\n",
    "    sequence = entry.getElementsByTagName(\"sequence\")\n",
    "\n",
    "    length = sequence[0].attributes.get(\"length\", None)\n",
    "    if length != None:\n",
    "        # Get sequence body\n",
    "        data = sequence[0].childNodes[0].data\n",
    "\n",
    "        # Get positions for the sequence.\n",
    "        for i, feature in enumerate(features):\n",
    "            if feature.attributes[\"type\"].value == search_type: \n",
    "            #and feature.attributes[\"description\"].value in search_descriptions:\n",
    "                position = feature.getElementsByTagName(\"position\")\n",
    "                position = int(position[0].attributes[\"position\"].value)\n",
    "                pattern = getPattern(data, position-1)\n",
    "                \n",
    "                # Append the data\n",
    "                sequences.append(data)\n",
    "                types.append(feature.attributes[\"type\"].value)\n",
    "                positions.append(position)\n",
    "                #descriptions.append(feature.attributes[\"description\"].value)\n",
    "                patterns.append(pattern)"
   ]
  },
  {
   "cell_type": "code",
   "execution_count": 4,
   "metadata": {},
   "outputs": [],
   "source": [
    "# Create a DataFrame and save the data to the disk.\n",
    "df = pd.DataFrame({\n",
    "    'sequence': pd.Series(sequences),\n",
    "    'type': pd.Series(types),\n",
    "    'position': pd.Series(positions),\n",
    "    #'description': pd.Series(descriptions),\n",
    "    'pattern': pd.Series(patterns)\n",
    "})\n",
    "df.to_csv(\"normalization-data.csv\", index=False)"
   ]
  },
  {
   "cell_type": "code",
   "execution_count": null,
   "metadata": {},
   "outputs": [],
   "source": []
  }
 ],
 "metadata": {
  "kernelspec": {
   "display_name": "Python 3",
   "language": "python",
   "name": "python3"
  },
  "language_info": {
   "codemirror_mode": {
    "name": "ipython",
    "version": 3
   },
   "file_extension": ".py",
   "mimetype": "text/x-python",
   "name": "python",
   "nbconvert_exporter": "python",
   "pygments_lexer": "ipython3",
   "version": "3.7.4"
  }
 },
 "nbformat": 4,
 "nbformat_minor": 4
}
